{
 "cells": [
  {
   "cell_type": "code",
   "execution_count": 4,
   "id": "7d3392ee-efa2-4574-9eb6-1cbb72d7a77e",
   "metadata": {},
   "outputs": [],
   "source": [
    "from bs4 import BeautifulSoup"
   ]
  },
  {
   "cell_type": "code",
   "execution_count": 5,
   "id": "5f5a26db-71af-4e55-8071-8d0457f424ec",
   "metadata": {},
   "outputs": [],
   "source": [
    "import requests"
   ]
  },
  {
   "cell_type": "code",
   "execution_count": 81,
   "id": "56c346b8-01f2-4fc9-ab41-97a856dba12c",
   "metadata": {},
   "outputs": [],
   "source": [
    "with open(\"htmls/fetchedpage1.html\", encoding=\"utf-8\")as f:\n",
    "    response=f.read()\n",
    "    \n",
    "soup = BeautifulSoup(response, \"html.parser\")"
   ]
  },
  {
   "cell_type": "code",
   "execution_count": 82,
   "id": "0cb219c1-64b6-4644-b6db-8a5c6c856188",
   "metadata": {},
   "outputs": [],
   "source": [
    "thoughts = soup.select(\"div.quote\")\n"
   ]
  },
  {
   "cell_type": "code",
   "execution_count": 91,
   "id": "de078ac8-83b5-4555-a927-dd2ef7993e09",
   "metadata": {},
   "outputs": [
    {
     "name": "stdout",
     "output_type": "stream",
     "text": [
      "Albert Einstein\n",
      "J.K. Rowling\n",
      "Albert Einstein\n",
      "Jane Austen\n",
      "Marilyn Monroe\n",
      "Albert Einstein\n",
      "André Gide\n",
      "Thomas A. Edison\n",
      "Eleanor Roosevelt\n",
      "Steve Martin\n"
     ]
    }
   ],
   "source": [
    "quotes=[]\n",
    "for thought in thoughts:\n",
    "    quote= thought.find(\"span\", class_=\"text\").text\n",
    "    author= thought.find(\"small\", class_=\"author\").text\n",
    "    print(author)\n",
    "    quotes.append([author,quote])"
   ]
  },
  {
   "cell_type": "code",
   "execution_count": 92,
   "id": "2e1beeb9-9e16-451c-8d03-38dec8ae2692",
   "metadata": {},
   "outputs": [
    {
     "data": {
      "text/plain": [
       "[['Albert Einstein',\n",
       "  '“The world as we have created it is a process of our thinking. It cannot be changed without changing our thinking.”'],\n",
       " ['J.K. Rowling',\n",
       "  '“It is our choices, Harry, that show what we truly are, far more than our abilities.”'],\n",
       " ['Albert Einstein',\n",
       "  '“There are only two ways to live your life. One is as though nothing is a miracle. The other is as though everything is a miracle.”'],\n",
       " ['Jane Austen',\n",
       "  '“The person, be it gentleman or lady, who has not pleasure in a good novel, must be intolerably stupid.”'],\n",
       " ['Marilyn Monroe',\n",
       "  \"“Imperfection is beauty, madness is genius and it's better to be absolutely ridiculous than absolutely boring.”\"],\n",
       " ['Albert Einstein',\n",
       "  '“Try not to become a man of success. Rather become a man of value.”'],\n",
       " ['André Gide',\n",
       "  '“It is better to be hated for what you are than to be loved for what you are not.”'],\n",
       " ['Thomas A. Edison',\n",
       "  \"“I have not failed. I've just found 10,000 ways that won't work.”\"],\n",
       " ['Eleanor Roosevelt',\n",
       "  \"“A woman is like a tea bag; you never know how strong it is until it's in hot water.”\"],\n",
       " ['Steve Martin', '“A day without sunshine is like, you know, night.”']]"
      ]
     },
     "execution_count": 92,
     "metadata": {},
     "output_type": "execute_result"
    }
   ],
   "source": [
    "quotes"
   ]
  },
  {
   "cell_type": "code",
   "execution_count": 93,
   "id": "f6e84ce3-36b9-4d53-8bb8-0a049dde53af",
   "metadata": {},
   "outputs": [],
   "source": [
    "import pandas as pd\n",
    "pd.set_option('display.max_colwidth', None)"
   ]
  },
  {
   "cell_type": "code",
   "execution_count": 94,
   "id": "d6bd8588-a278-4983-9a21-c730dcf059d1",
   "metadata": {},
   "outputs": [],
   "source": [
    "df=pd.DataFrame(quotes)"
   ]
  },
  {
   "cell_type": "code",
   "execution_count": 95,
   "id": "7f9074bb-3ce9-46a4-ba70-d80489fa4857",
   "metadata": {},
   "outputs": [
    {
     "data": {
      "text/html": [
       "<div>\n",
       "<style scoped>\n",
       "    .dataframe tbody tr th:only-of-type {\n",
       "        vertical-align: middle;\n",
       "    }\n",
       "\n",
       "    .dataframe tbody tr th {\n",
       "        vertical-align: top;\n",
       "    }\n",
       "\n",
       "    .dataframe thead th {\n",
       "        text-align: right;\n",
       "    }\n",
       "</style>\n",
       "<table border=\"1\" class=\"dataframe\">\n",
       "  <thead>\n",
       "    <tr style=\"text-align: right;\">\n",
       "      <th></th>\n",
       "      <th>0</th>\n",
       "      <th>1</th>\n",
       "    </tr>\n",
       "  </thead>\n",
       "  <tbody>\n",
       "    <tr>\n",
       "      <th>0</th>\n",
       "      <td>Albert Einstein</td>\n",
       "      <td>“The world as we have created it is a process of our thinking. It cannot be changed without changing our thinking.”</td>\n",
       "    </tr>\n",
       "    <tr>\n",
       "      <th>1</th>\n",
       "      <td>J.K. Rowling</td>\n",
       "      <td>“It is our choices, Harry, that show what we truly are, far more than our abilities.”</td>\n",
       "    </tr>\n",
       "    <tr>\n",
       "      <th>2</th>\n",
       "      <td>Albert Einstein</td>\n",
       "      <td>“There are only two ways to live your life. One is as though nothing is a miracle. The other is as though everything is a miracle.”</td>\n",
       "    </tr>\n",
       "    <tr>\n",
       "      <th>3</th>\n",
       "      <td>Jane Austen</td>\n",
       "      <td>“The person, be it gentleman or lady, who has not pleasure in a good novel, must be intolerably stupid.”</td>\n",
       "    </tr>\n",
       "    <tr>\n",
       "      <th>4</th>\n",
       "      <td>Marilyn Monroe</td>\n",
       "      <td>“Imperfection is beauty, madness is genius and it's better to be absolutely ridiculous than absolutely boring.”</td>\n",
       "    </tr>\n",
       "    <tr>\n",
       "      <th>5</th>\n",
       "      <td>Albert Einstein</td>\n",
       "      <td>“Try not to become a man of success. Rather become a man of value.”</td>\n",
       "    </tr>\n",
       "    <tr>\n",
       "      <th>6</th>\n",
       "      <td>André Gide</td>\n",
       "      <td>“It is better to be hated for what you are than to be loved for what you are not.”</td>\n",
       "    </tr>\n",
       "    <tr>\n",
       "      <th>7</th>\n",
       "      <td>Thomas A. Edison</td>\n",
       "      <td>“I have not failed. I've just found 10,000 ways that won't work.”</td>\n",
       "    </tr>\n",
       "    <tr>\n",
       "      <th>8</th>\n",
       "      <td>Eleanor Roosevelt</td>\n",
       "      <td>“A woman is like a tea bag; you never know how strong it is until it's in hot water.”</td>\n",
       "    </tr>\n",
       "    <tr>\n",
       "      <th>9</th>\n",
       "      <td>Steve Martin</td>\n",
       "      <td>“A day without sunshine is like, you know, night.”</td>\n",
       "    </tr>\n",
       "  </tbody>\n",
       "</table>\n",
       "</div>"
      ],
      "text/plain": [
       "                   0  \\\n",
       "0    Albert Einstein   \n",
       "1       J.K. Rowling   \n",
       "2    Albert Einstein   \n",
       "3        Jane Austen   \n",
       "4     Marilyn Monroe   \n",
       "5    Albert Einstein   \n",
       "6         André Gide   \n",
       "7   Thomas A. Edison   \n",
       "8  Eleanor Roosevelt   \n",
       "9       Steve Martin   \n",
       "\n",
       "                                                                                                                                     1  \n",
       "0                  “The world as we have created it is a process of our thinking. It cannot be changed without changing our thinking.”  \n",
       "1                                                “It is our choices, Harry, that show what we truly are, far more than our abilities.”  \n",
       "2  “There are only two ways to live your life. One is as though nothing is a miracle. The other is as though everything is a miracle.”  \n",
       "3                             “The person, be it gentleman or lady, who has not pleasure in a good novel, must be intolerably stupid.”  \n",
       "4                      “Imperfection is beauty, madness is genius and it's better to be absolutely ridiculous than absolutely boring.”  \n",
       "5                                                                  “Try not to become a man of success. Rather become a man of value.”  \n",
       "6                                                   “It is better to be hated for what you are than to be loved for what you are not.”  \n",
       "7                                                                    “I have not failed. I've just found 10,000 ways that won't work.”  \n",
       "8                                                “A woman is like a tea bag; you never know how strong it is until it's in hot water.”  \n",
       "9                                                                                   “A day without sunshine is like, you know, night.”  "
      ]
     },
     "execution_count": 95,
     "metadata": {},
     "output_type": "execute_result"
    }
   ],
   "source": [
    "df"
   ]
  },
  {
   "cell_type": "code",
   "execution_count": null,
   "id": "4935cfe7-7c14-4467-9560-b90d246216b7",
   "metadata": {},
   "outputs": [],
   "source": []
  }
 ],
 "metadata": {
  "kernelspec": {
   "display_name": "Python 3 (ipykernel)",
   "language": "python",
   "name": "python3"
  },
  "language_info": {
   "codemirror_mode": {
    "name": "ipython",
    "version": 3
   },
   "file_extension": ".py",
   "mimetype": "text/x-python",
   "name": "python",
   "nbconvert_exporter": "python",
   "pygments_lexer": "ipython3",
   "version": "3.13.2"
  }
 },
 "nbformat": 4,
 "nbformat_minor": 5
}

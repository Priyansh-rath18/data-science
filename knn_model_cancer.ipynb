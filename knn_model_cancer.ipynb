{
 "cells": [
  {
   "cell_type": "code",
   "execution_count": 1,
   "id": "142d8896-3a11-4bcf-8d53-c2bab203574b",
   "metadata": {},
   "outputs": [],
   "source": [
    "import pandas as pd"
   ]
  },
  {
   "cell_type": "code",
   "execution_count": 2,
   "id": "721245b3-4615-433f-b3a1-6938719c1a51",
   "metadata": {},
   "outputs": [
    {
     "data": {
      "text/html": [
       "<div>\n",
       "<style scoped>\n",
       "    .dataframe tbody tr th:only-of-type {\n",
       "        vertical-align: middle;\n",
       "    }\n",
       "\n",
       "    .dataframe tbody tr th {\n",
       "        vertical-align: top;\n",
       "    }\n",
       "\n",
       "    .dataframe thead th {\n",
       "        text-align: right;\n",
       "    }\n",
       "</style>\n",
       "<table border=\"1\" class=\"dataframe\">\n",
       "  <thead>\n",
       "    <tr style=\"text-align: right;\">\n",
       "      <th></th>\n",
       "      <th>Gene One</th>\n",
       "      <th>Gene Two</th>\n",
       "      <th>Cancer Present</th>\n",
       "    </tr>\n",
       "  </thead>\n",
       "  <tbody>\n",
       "    <tr>\n",
       "      <th>0</th>\n",
       "      <td>4.3</td>\n",
       "      <td>3.9</td>\n",
       "      <td>1</td>\n",
       "    </tr>\n",
       "    <tr>\n",
       "      <th>1</th>\n",
       "      <td>2.5</td>\n",
       "      <td>6.3</td>\n",
       "      <td>0</td>\n",
       "    </tr>\n",
       "    <tr>\n",
       "      <th>2</th>\n",
       "      <td>5.7</td>\n",
       "      <td>3.9</td>\n",
       "      <td>1</td>\n",
       "    </tr>\n",
       "    <tr>\n",
       "      <th>3</th>\n",
       "      <td>6.1</td>\n",
       "      <td>6.2</td>\n",
       "      <td>0</td>\n",
       "    </tr>\n",
       "    <tr>\n",
       "      <th>4</th>\n",
       "      <td>7.4</td>\n",
       "      <td>3.4</td>\n",
       "      <td>1</td>\n",
       "    </tr>\n",
       "    <tr>\n",
       "      <th>...</th>\n",
       "      <td>...</td>\n",
       "      <td>...</td>\n",
       "      <td>...</td>\n",
       "    </tr>\n",
       "    <tr>\n",
       "      <th>2995</th>\n",
       "      <td>5.0</td>\n",
       "      <td>6.5</td>\n",
       "      <td>1</td>\n",
       "    </tr>\n",
       "    <tr>\n",
       "      <th>2996</th>\n",
       "      <td>3.4</td>\n",
       "      <td>6.6</td>\n",
       "      <td>0</td>\n",
       "    </tr>\n",
       "    <tr>\n",
       "      <th>2997</th>\n",
       "      <td>2.7</td>\n",
       "      <td>6.5</td>\n",
       "      <td>0</td>\n",
       "    </tr>\n",
       "    <tr>\n",
       "      <th>2998</th>\n",
       "      <td>3.3</td>\n",
       "      <td>5.6</td>\n",
       "      <td>0</td>\n",
       "    </tr>\n",
       "    <tr>\n",
       "      <th>2999</th>\n",
       "      <td>4.6</td>\n",
       "      <td>8.2</td>\n",
       "      <td>0</td>\n",
       "    </tr>\n",
       "  </tbody>\n",
       "</table>\n",
       "<p>3000 rows × 3 columns</p>\n",
       "</div>"
      ],
      "text/plain": [
       "      Gene One  Gene Two  Cancer Present\n",
       "0          4.3       3.9               1\n",
       "1          2.5       6.3               0\n",
       "2          5.7       3.9               1\n",
       "3          6.1       6.2               0\n",
       "4          7.4       3.4               1\n",
       "...        ...       ...             ...\n",
       "2995       5.0       6.5               1\n",
       "2996       3.4       6.6               0\n",
       "2997       2.7       6.5               0\n",
       "2998       3.3       5.6               0\n",
       "2999       4.6       8.2               0\n",
       "\n",
       "[3000 rows x 3 columns]"
      ]
     },
     "execution_count": 2,
     "metadata": {},
     "output_type": "execute_result"
    }
   ],
   "source": [
    "data =pd.read_csv('gene_expression.csv')\n",
    "data"
   ]
  },
  {
   "cell_type": "code",
   "execution_count": 3,
   "id": "f9cda7dd-0f06-4442-a980-9cbdadce8c18",
   "metadata": {},
   "outputs": [
    {
     "data": {
      "text/plain": [
       "Gene One          0\n",
       "Gene Two          0\n",
       "Cancer Present    0\n",
       "dtype: int64"
      ]
     },
     "execution_count": 3,
     "metadata": {},
     "output_type": "execute_result"
    }
   ],
   "source": [
    "data.isnull().sum()"
   ]
  },
  {
   "cell_type": "markdown",
   "id": "4fdf236b-ac78-4384-b49f-7559f010d10a",
   "metadata": {},
   "source": [
    "🧬 What is Gene Expression Level?\n",
    "The expression level of a gene refers to how much that gene is being \"used\" or \"activated\" in a particular cell or tissue.\n",
    "\n",
    "Think of a gene like a recipe in a cookbook 📖. The expression level tells you how often that recipe is being cooked.\n",
    "\n",
    "🧠 Scientific Definition:\n",
    "Gene expression level is the amount of RNA (or protein) produced from a gene.\n",
    "It reflects how actively a gene is transcribed (read and used) in a specific condition.\n",
    "\n",
    "🎯 Why It Matters:\n",
    "Genes can be:\n",
    "\n",
    "Highly expressed → making a lot of protein/RNA (important or active)\n",
    "\n",
    "Lowly expressed → barely active\n",
    "\n",
    "Not expressed → silent (turned off)\n",
    "\n",
    "For example:\n",
    "\n",
    "A cancer gene might have high expression in tumor cells.\n",
    "\n",
    "A liver enzyme gene may be active only in liver tissue.\n",
    "\n",
    "📏 How Is It Measured?\n",
    "Gene expression is measured using:\n",
    "\n",
    "Technique\tUnit Type\tMeaning\n",
    "Microarrays\tFluorescence Intensity\tBrighter = more expression\n",
    "RNA-seq (NGS)\tTPM, RPKM, FPKM\tNormalized RNA count per gene\n",
    "qPCR\tCt value (inversely)\tLower Ct = higher expression\n",
    "\n",
    "RNA-Seq is the most common in modern data science and bioinformatics.\n",
    "\n",
    "📈 Example in Machine Learning:\n",
    "In datasets like gene expression profiles:\n",
    "Gene1   Gene2   Gene3   Diagnosis\n",
    "12.4    0.5     8.1     Cancer\n",
    "3.0     2.4     0.1     Healthy\n",
    "Here:\n",
    "\n",
    "Gene1 = 12.4 → highly expressed\n",
    "\n",
    "Gene2 = 0.5 → low expression\n",
    "\n",
    "✅ Summary:\n",
    "Gene expression level = how \"on\" or \"active\" a gene is\n",
    "\n",
    "Measured by how much RNA/protein is produced\n",
    "\n",
    "Used in biology, disease diagnosis, and machine learning on genomics data\n",
    "\n",
    "\n",
    "\n"
   ]
  },
  {
   "cell_type": "code",
   "execution_count": 4,
   "id": "48a37f07-6516-474f-8247-4ad04074ac06",
   "metadata": {},
   "outputs": [],
   "source": [
    "from sklearn.model_selection import train_test_split\n",
    "from sklearn.neighbors import KNeighborsClassifier\n",
    "from sklearn.metrics import accuracy_score"
   ]
  },
  {
   "cell_type": "code",
   "execution_count": 6,
   "id": "27e6fb4d-8752-46d3-b893-4c28627e8bd0",
   "metadata": {},
   "outputs": [],
   "source": [
    "X= data.drop(['Cancer Present'],axis=1)\n",
    "Y=data['Cancer Present']"
   ]
  },
  {
   "cell_type": "code",
   "execution_count": 7,
   "id": "e7a70222-772e-481a-9008-e3af8552ced9",
   "metadata": {},
   "outputs": [
    {
     "data": {
      "text/html": [
       "<div>\n",
       "<style scoped>\n",
       "    .dataframe tbody tr th:only-of-type {\n",
       "        vertical-align: middle;\n",
       "    }\n",
       "\n",
       "    .dataframe tbody tr th {\n",
       "        vertical-align: top;\n",
       "    }\n",
       "\n",
       "    .dataframe thead th {\n",
       "        text-align: right;\n",
       "    }\n",
       "</style>\n",
       "<table border=\"1\" class=\"dataframe\">\n",
       "  <thead>\n",
       "    <tr style=\"text-align: right;\">\n",
       "      <th></th>\n",
       "      <th>Gene One</th>\n",
       "      <th>Gene Two</th>\n",
       "    </tr>\n",
       "  </thead>\n",
       "  <tbody>\n",
       "    <tr>\n",
       "      <th>0</th>\n",
       "      <td>4.3</td>\n",
       "      <td>3.9</td>\n",
       "    </tr>\n",
       "    <tr>\n",
       "      <th>1</th>\n",
       "      <td>2.5</td>\n",
       "      <td>6.3</td>\n",
       "    </tr>\n",
       "    <tr>\n",
       "      <th>2</th>\n",
       "      <td>5.7</td>\n",
       "      <td>3.9</td>\n",
       "    </tr>\n",
       "    <tr>\n",
       "      <th>3</th>\n",
       "      <td>6.1</td>\n",
       "      <td>6.2</td>\n",
       "    </tr>\n",
       "    <tr>\n",
       "      <th>4</th>\n",
       "      <td>7.4</td>\n",
       "      <td>3.4</td>\n",
       "    </tr>\n",
       "    <tr>\n",
       "      <th>...</th>\n",
       "      <td>...</td>\n",
       "      <td>...</td>\n",
       "    </tr>\n",
       "    <tr>\n",
       "      <th>2995</th>\n",
       "      <td>5.0</td>\n",
       "      <td>6.5</td>\n",
       "    </tr>\n",
       "    <tr>\n",
       "      <th>2996</th>\n",
       "      <td>3.4</td>\n",
       "      <td>6.6</td>\n",
       "    </tr>\n",
       "    <tr>\n",
       "      <th>2997</th>\n",
       "      <td>2.7</td>\n",
       "      <td>6.5</td>\n",
       "    </tr>\n",
       "    <tr>\n",
       "      <th>2998</th>\n",
       "      <td>3.3</td>\n",
       "      <td>5.6</td>\n",
       "    </tr>\n",
       "    <tr>\n",
       "      <th>2999</th>\n",
       "      <td>4.6</td>\n",
       "      <td>8.2</td>\n",
       "    </tr>\n",
       "  </tbody>\n",
       "</table>\n",
       "<p>3000 rows × 2 columns</p>\n",
       "</div>"
      ],
      "text/plain": [
       "      Gene One  Gene Two\n",
       "0          4.3       3.9\n",
       "1          2.5       6.3\n",
       "2          5.7       3.9\n",
       "3          6.1       6.2\n",
       "4          7.4       3.4\n",
       "...        ...       ...\n",
       "2995       5.0       6.5\n",
       "2996       3.4       6.6\n",
       "2997       2.7       6.5\n",
       "2998       3.3       5.6\n",
       "2999       4.6       8.2\n",
       "\n",
       "[3000 rows x 2 columns]"
      ]
     },
     "execution_count": 7,
     "metadata": {},
     "output_type": "execute_result"
    }
   ],
   "source": [
    "X"
   ]
  },
  {
   "cell_type": "code",
   "execution_count": 8,
   "id": "f0c29a8c-9490-42dc-b71a-565047753267",
   "metadata": {},
   "outputs": [
    {
     "data": {
      "text/plain": [
       "0       1\n",
       "1       0\n",
       "2       1\n",
       "3       0\n",
       "4       1\n",
       "       ..\n",
       "2995    1\n",
       "2996    0\n",
       "2997    0\n",
       "2998    0\n",
       "2999    0\n",
       "Name: Cancer Present, Length: 3000, dtype: int64"
      ]
     },
     "execution_count": 8,
     "metadata": {},
     "output_type": "execute_result"
    }
   ],
   "source": [
    "Y     #Binary label (1 = cancer, 0 = no cancer)"
   ]
  },
  {
   "cell_type": "code",
   "execution_count": 9,
   "id": "19204f12-b264-43f0-9f10-fac7406a39d1",
   "metadata": {},
   "outputs": [],
   "source": [
    "X_train, X_test, y_train, y_test = train_test_split(X, Y, test_size=0.25, random_state=42)"
   ]
  },
  {
   "cell_type": "code",
   "execution_count": 10,
   "id": "8211043b-07c5-41be-89ae-98d00d733835",
   "metadata": {},
   "outputs": [],
   "source": [
    "# 3. Create a KNN classifier instance\n",
    "# n_neighbors specifies the 'k' in KNN, meaning the number of nearest neighbors to consider\n",
    "knn = KNeighborsClassifier(n_neighbors=5)\n",
    "\n",
    "# 4. Train the model using the training data\n",
    "knn.fit(X_train, y_train)\n",
    "\n",
    "# 5. Make predictions on the test data\n",
    "y_pred = knn.predict(X_test)"
   ]
  },
  {
   "cell_type": "code",
   "execution_count": 11,
   "id": "acbb7107-f4de-459e-8844-b010bcaa7cde",
   "metadata": {},
   "outputs": [
    {
     "name": "stdout",
     "output_type": "stream",
     "text": [
      "Accuracy of the KNN model: 0.93\n"
     ]
    }
   ],
   "source": [
    "accuracy = accuracy_score(y_test, y_pred)\n",
    "print(f\"Accuracy of the KNN model: {accuracy:.2f}\")"
   ]
  },
  {
   "cell_type": "code",
   "execution_count": 12,
   "id": "91c286f9-b555-480a-883b-6eaec431dca0",
   "metadata": {},
   "outputs": [
    {
     "name": "stdout",
     "output_type": "stream",
     "text": [
      "Predicted class: 1\n"
     ]
    },
    {
     "name": "stderr",
     "output_type": "stream",
     "text": [
      "C:\\Users\\priyn\\anaconda3\\envs\\priyanshenv\\Lib\\site-packages\\sklearn\\utils\\validation.py:2739: UserWarning: X does not have valid feature names, but KNeighborsClassifier was fitted with feature names\n",
      "  warnings.warn(\n"
     ]
    }
   ],
   "source": [
    "# Predict a new data point\n",
    "new_data_point = [[5.1, 3.5]] # Example: (gene 1)'s expression level and (gene 2)'s expression level\n",
    "predicted_class = knn.predict(new_data_point)\n",
    "print(\"Predicted class:\", predicted_class[0])"
   ]
  },
  {
   "cell_type": "code",
   "execution_count": 13,
   "id": "0ededd20-e12d-45b2-a9ea-db5f25b0658c",
   "metadata": {},
   "outputs": [
    {
     "data": {
      "text/plain": [
       "['knnforcancer.joblib']"
      ]
     },
     "execution_count": 13,
     "metadata": {},
     "output_type": "execute_result"
    }
   ],
   "source": [
    "import joblib\n",
    "joblib.dump(knn, 'knnforcancer.joblib')"
   ]
  },
  {
   "cell_type": "code",
   "execution_count": null,
   "id": "e104bf79-f670-4682-84df-007cfe6e6628",
   "metadata": {},
   "outputs": [],
   "source": []
  }
 ],
 "metadata": {
  "kernelspec": {
   "display_name": "Python 3 (ipykernel)",
   "language": "python",
   "name": "python3"
  },
  "language_info": {
   "codemirror_mode": {
    "name": "ipython",
    "version": 3
   },
   "file_extension": ".py",
   "mimetype": "text/x-python",
   "name": "python",
   "nbconvert_exporter": "python",
   "pygments_lexer": "ipython3",
   "version": "3.13.2"
  }
 },
 "nbformat": 4,
 "nbformat_minor": 5
}

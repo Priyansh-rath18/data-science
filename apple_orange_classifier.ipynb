{
 "cells": [
  {
   "cell_type": "code",
   "execution_count": 1,
   "id": "b18940f0-4cb3-4b82-a967-56f3847ed04c",
   "metadata": {},
   "outputs": [],
   "source": [
    "from sklearn import tree\n",
    "\n"
   ]
  },
  {
   "cell_type": "code",
   "execution_count": 2,
   "id": "4164182e-76a8-47f5-b4bf-9507e262efd7",
   "metadata": {},
   "outputs": [],
   "source": [
    "# Step 1: Collect Data\n",
    "# Features: [weight (grams), color (0 = red, 1 = orange)]\n",
    "features = [\n",
    "    [150, 0],  # Apple\n",
    "    [170, 0],  # Apple\n",
    "    [130, 1],  # Orange\n",
    "    [120, 1],  # Orange\n",
    "]\n",
    "labels = [\"apple\", \"apple\", \"orange\", \"orange\"]"
   ]
  },
  {
   "cell_type": "code",
   "execution_count": 3,
   "id": "880fdb03-8905-45a4-b01c-78b980637a8a",
   "metadata": {},
   "outputs": [],
   "source": [
    "# Step 2: Train a model\n",
    "clf = tree.DecisionTreeClassifier()\n",
    "clf = clf.fit(features, labels)"
   ]
  },
  {
   "cell_type": "code",
   "execution_count": 4,
   "id": "b99dead3-9db7-4e5e-b02d-a482d81e9a9c",
   "metadata": {},
   "outputs": [
    {
     "name": "stdout",
     "output_type": "stream",
     "text": [
      "['apple']\n",
      "['orange']\n"
     ]
    }
   ],
   "source": [
    "# Step 3: Predict!\n",
    "print(clf.predict([[160, 0]]))  # Heavy and red-ish? Probably an apple!\n",
    "print(clf.predict([[115, 1]]))  # Light and orange? Probably an orange!"
   ]
  },
  {
   "cell_type": "code",
   "execution_count": null,
   "id": "b0ecaed8-4ed6-4792-8941-bd1e1cfb374c",
   "metadata": {},
   "outputs": [],
   "source": []
  }
 ],
 "metadata": {
  "kernelspec": {
   "display_name": "Python 3 (ipykernel)",
   "language": "python",
   "name": "python3"
  },
  "language_info": {
   "codemirror_mode": {
    "name": "ipython",
    "version": 3
   },
   "file_extension": ".py",
   "mimetype": "text/x-python",
   "name": "python",
   "nbconvert_exporter": "python",
   "pygments_lexer": "ipython3",
   "version": "3.13.2"
  }
 },
 "nbformat": 4,
 "nbformat_minor": 5
}

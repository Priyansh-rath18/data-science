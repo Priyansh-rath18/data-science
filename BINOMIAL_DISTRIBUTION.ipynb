{
 "cells": [
  {
   "cell_type": "code",
   "execution_count": 1,
   "id": "a86441d8-ac6b-4746-b91c-43201ae17555",
   "metadata": {},
   "outputs": [
    {
     "name": "stdout",
     "output_type": "stream",
     "text": [
      "0.2050781249999999\n"
     ]
    }
   ],
   "source": [
    "from scipy.stats import binom\n",
    "\n",
    "# Probability of exactly 6 heads in 10 tosses (p = 0.5)\n",
    "prob = binom.pmf(k=6, n=10, p=0.5)\n",
    "print(prob)  # Output: ~0.205"
   ]
  },
  {
   "attachments": {},
   "cell_type": "markdown",
   "id": "88f78f78-224f-45f8-8be3-4e09fd87e1b1",
   "metadata": {},
   "source": [
    "FUNCTION USED ABOVE IS FOR THE BINOMIAL DISTRIBUTION,IT HAS THE MATHEMATICAL FORMULA OF:P(X = x) = C(n, x) * p^x * (1 - p)^(n - x)\n",
    "\n",
    "Used for:\tCount of successes in repeated trials"
   ]
  }
 ],
 "metadata": {
  "kernelspec": {
   "display_name": "Python 3 (ipykernel)",
   "language": "python",
   "name": "python3"
  },
  "language_info": {
   "codemirror_mode": {
    "name": "ipython",
    "version": 3
   },
   "file_extension": ".py",
   "mimetype": "text/x-python",
   "name": "python",
   "nbconvert_exporter": "python",
   "pygments_lexer": "ipython3",
   "version": "3.13.2"
  }
 },
 "nbformat": 4,
 "nbformat_minor": 5
}

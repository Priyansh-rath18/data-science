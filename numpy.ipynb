{
 "cells": [
  {
   "cell_type": "code",
   "execution_count": 6,
   "id": "a8b3e2a5-66a0-450f-b76e-fd65e0e20bf4",
   "metadata": {},
   "outputs": [],
   "source": [
    "import numpy as np"
   ]
  },
  {
   "cell_type": "code",
   "execution_count": null,
   "id": "a883c621-23cb-4446-bbbf-acb0f7673783",
   "metadata": {},
   "outputs": [],
   "source": [
    "#HERE ARE THE COMMONLY USED NUMPY FUNCTIONS THAT DEFINE BASIC STRUCTURE AND FUNCTIONALITIES OF THE ARRAYS"
   ]
  },
  {
   "cell_type": "code",
   "execution_count": 2,
   "id": "c372ea84-49a8-4180-98df-1489bec76f67",
   "metadata": {},
   "outputs": [],
   "source": [
    "arr1=np.array([1,2,3,4])# making a 1D array"
   ]
  },
  {
   "cell_type": "code",
   "execution_count": 7,
   "id": "2d712e09-8d01-4c9d-97cb-48cf0a9986a8",
   "metadata": {},
   "outputs": [],
   "source": [
    "arr2= np.array([[1,2,3],[4,5,6]])# maiking a 2D array"
   ]
  },
  {
   "cell_type": "code",
   "execution_count": 12,
   "id": "e92bc2d0-1c09-4261-9295-f3977f7d6e83",
   "metadata": {},
   "outputs": [
    {
     "name": "stdout",
     "output_type": "stream",
     "text": [
      "[[1 2 3]\n",
      " [4 5 6]]\n",
      "[1 2 3 4]\n"
     ]
    }
   ],
   "source": [
    "print(arr2)\n",
    "print(arr1)"
   ]
  },
  {
   "cell_type": "raw",
   "id": "77b4f98a-337e-4b4b-986d-a918313fc1f9",
   "metadata": {},
   "source": []
  },
  {
   "cell_type": "code",
   "execution_count": 17,
   "id": "69b1a023-e130-4cea-bcc8-5f1c800853f7",
   "metadata": {},
   "outputs": [],
   "source": [
    "arr3= np.zeros((3,4))#making 2D matrix of (3,4) of all zeroes"
   ]
  },
  {
   "cell_type": "code",
   "execution_count": 18,
   "id": "983b4e31-0d60-4e79-894b-82326a0c8072",
   "metadata": {},
   "outputs": [],
   "source": [
    "arr4=np.ones((4,4))#maing 2d matrix of (4,4) of all ones"
   ]
  },
  {
   "cell_type": "code",
   "execution_count": 19,
   "id": "45b157b5-dd63-432c-8e39-9efe6879e3c8",
   "metadata": {},
   "outputs": [],
   "source": [
    "arr5=np.full((4,4),5) #filling an matrix with only 5s"
   ]
  },
  {
   "cell_type": "code",
   "execution_count": 21,
   "id": "0a623a0b-7621-4a8a-975f-bf8b1257276c",
   "metadata": {},
   "outputs": [],
   "source": [
    "arr6= np.eye(3)#making identity matrix of (3,3)"
   ]
  },
  {
   "cell_type": "code",
   "execution_count": 27,
   "id": "d0d0ea33-71ba-4e63-a0a7-2874d1e4cf60",
   "metadata": {},
   "outputs": [],
   "source": [
    "arr7= np.arange(1,20,2)#putting up element starting from 1 with common difference of 2\n"
   ]
  },
  {
   "cell_type": "code",
   "execution_count": 28,
   "id": "ddaefe33-5769-4eca-865e-d873a019732f",
   "metadata": {},
   "outputs": [],
   "source": [
    "arr8=np.linspace(1,2,6)#dividing the range from 1 to 2 into 6 equal parts"
   ]
  },
  {
   "cell_type": "code",
   "execution_count": 30,
   "id": "cac2829a-828d-48d1-9757-ec953d1f9091",
   "metadata": {},
   "outputs": [],
   "source": [
    "arr=np.array(([1,2,3,4,5,6],[7,8,9,10,11,12]))"
   ]
  },
  {
   "cell_type": "code",
   "execution_count": 31,
   "id": "1fb56d6e-9fa3-4c67-be02-ef1357ae6ad8",
   "metadata": {},
   "outputs": [],
   "source": [
    "shape=arr.shape #tells the shape of the array\n",
    "dimension= arr.ndim #tells the dimension of the array\n",
    "dtype=arr.dtype #tells the data type of the array\n",
    "size=arr.size #tells the size of the array"
   ]
  },
  {
   "cell_type": "code",
   "execution_count": 33,
   "id": "ebf403b5-ba51-4ad8-a3dd-3d93464b4a39",
   "metadata": {},
   "outputs": [],
   "source": [
    "#NOW LET'S SEE SOME MORE OPERATIONS OVER ARRAYS AND THEIR PROPERTIES"
   ]
  },
  {
   "cell_type": "code",
   "execution_count": 44,
   "id": "17b683cc-a17f-4b2e-b957-b606b362affb",
   "metadata": {},
   "outputs": [],
   "source": [
    "#CREATING MATRIX OF 3X3 OF RANDOM VALUES\n",
    "ARR=np.random.randint(1,10,size=(3,3))"
   ]
  },
  {
   "cell_type": "code",
   "execution_count": 45,
   "id": "43e5fb1e-cc46-4454-9541-95e5d5e9d753",
   "metadata": {},
   "outputs": [
    {
     "name": "stdout",
     "output_type": "stream",
     "text": [
      "[[9 3 3]\n",
      " [8 9 3]\n",
      " [4 6 6]]\n"
     ]
    }
   ],
   "source": [
    "print(ARR)"
   ]
  },
  {
   "cell_type": "code",
   "execution_count": 46,
   "id": "a2330624-4f58-42a5-9fbd-ed0ba1d4a11c",
   "metadata": {},
   "outputs": [],
   "source": [
    "#FANCY INDEXING TO EXTRACT EVEN NUMBERS FROM ARRAY\n",
    "X=np.where(ARR%2==0)\n",
    "even_nums=ARR[X]"
   ]
  },
  {
   "cell_type": "code",
   "execution_count": 47,
   "id": "87d6f8ae-65f1-4321-8b3c-5c1b9a0c582e",
   "metadata": {},
   "outputs": [
    {
     "name": "stdout",
     "output_type": "stream",
     "text": [
      "[8 4 6 6]\n"
     ]
    }
   ],
   "source": [
    "print(even_nums)"
   ]
  },
  {
   "cell_type": "code",
   "execution_count": 7,
   "id": "482bbdd7-53b9-4880-adf4-85eeead5dc80",
   "metadata": {},
   "outputs": [],
   "source": [
    "#RESHAPING AN ARRAY OF ONE DIMENSION OF 9 ELEMENTS INTO AN ARRAY OF DIMENSION 3X3\n",
    "arr99=np.array([1,2,3,4,5,6,7,8,9])\n",
    "arr33=arr99.reshape(3,3)"
   ]
  },
  {
   "cell_type": "code",
   "execution_count": 8,
   "id": "671e5850-9875-4379-a14d-550621221b71",
   "metadata": {},
   "outputs": [
    {
     "name": "stdout",
     "output_type": "stream",
     "text": [
      "[[1 2 3]\n",
      " [4 5 6]\n",
      " [7 8 9]]\n"
     ]
    }
   ],
   "source": [
    "print(arr33)"
   ]
  },
  {
   "cell_type": "code",
   "execution_count": 52,
   "id": "741912f9-062c-438a-8b03-2dcac555884e",
   "metadata": {},
   "outputs": [],
   "source": [
    "#extracting numbers greater than 50 from an array\n",
    "arr50=np.arange(80)\n",
    "arr51=np.where(arr50>50)"
   ]
  },
  {
   "cell_type": "code",
   "execution_count": 53,
   "id": "a6cfcea3-a16c-4b0b-8b1d-da0bb17f3fc2",
   "metadata": {},
   "outputs": [
    {
     "name": "stdout",
     "output_type": "stream",
     "text": [
      "(array([51, 52, 53, 54, 55, 56, 57, 58, 59, 60, 61, 62, 63, 64, 65, 66, 67,\n",
      "       68, 69, 70, 71, 72, 73, 74, 75, 76, 77, 78, 79]),)\n"
     ]
    }
   ],
   "source": [
    "print(arr51)"
   ]
  },
  {
   "cell_type": "code",
   "execution_count": 54,
   "id": "e13634b7-2b05-44a2-95e6-9664f980d5e8",
   "metadata": {},
   "outputs": [
    {
     "name": "stdout",
     "output_type": "stream",
     "text": [
      "[1 2 3]\n",
      "int64\n"
     ]
    }
   ],
   "source": [
    "#changing the datatype of an array from float to integer\n",
    "\n",
    "arrfloat=np.array([1.1,2.2,3.3])\n",
    "arrint=arrfloat.astype(int)\n",
    "print(arrint)\n",
    "print(arrint.dtype)"
   ]
  },
  {
   "cell_type": "code",
   "execution_count": 10,
   "id": "b6538f08-6483-40ea-ab65-64a8e745ab8b",
   "metadata": {},
   "outputs": [
    {
     "name": "stdout",
     "output_type": "stream",
     "text": [
      "6\n"
     ]
    }
   ],
   "source": [
    "#MULTIDIMENSIONAL INDEXING\n",
    "# Accessing an element\n",
    "print(arr33[1, 2]) # Row index 1, Column index 2 → Output: 6"
   ]
  },
  {
   "cell_type": "code",
   "execution_count": 11,
   "id": "53edd63c-040c-4ae2-ac08-372eda8b86ce",
   "metadata": {},
   "outputs": [
    {
     "name": "stdout",
     "output_type": "stream",
     "text": [
      "[[2 3]\n",
      " [5 6]]\n"
     ]
    }
   ],
   "source": [
    "#SLICING THE ARRAY\n",
    "print(arr33[0:2, 1:3])  # Extracts first 2 rows and last 2 columns"
   ]
  },
  {
   "cell_type": "code",
   "execution_count": 12,
   "id": "c332eeea-89dc-49f4-bee1-84f46a586961",
   "metadata": {},
   "outputs": [
    {
     "name": "stdout",
     "output_type": "stream",
     "text": [
      "(2, 2, 3)\n"
     ]
    }
   ],
   "source": [
    "#INDEXING IN 3D MATRIX\n",
    "arr3D = np.array([[[1, 2, 3], [4, 5, 6]],\n",
    "                  [[7, 8, 9], [10, 11, 12]]])\n",
    "\n",
    "# Output of arr3D.shape is → (depth, rows, columns)\n",
    "print(arr3D.shape)  # Output: (2, 2, 3) "
   ]
  },
  {
   "cell_type": "code",
   "execution_count": 13,
   "id": "f5934899-cbe7-432b-a3aa-57e3f512a05f",
   "metadata": {},
   "outputs": [
    {
     "name": "stdout",
     "output_type": "stream",
     "text": [
      "6\n",
      "[[1 2 3]\n",
      " [7 8 9]]\n"
     ]
    }
   ],
   "source": [
    "#ACCESSING ELEMENTS IN 3D \n",
    "# First sheet, second row, third column\n",
    "print(arr3D[0, 1, 2])  # Output: 6\n",
    "\n",
    "print(arr3D[:, 0, :])   # Get the first row from both sheets"
   ]
  },
  {
   "cell_type": "code",
   "execution_count": 14,
   "id": "696e5d37-6e9b-4712-bc85-48a53679a34d",
   "metadata": {},
   "outputs": [],
   "source": [
    "#VECTORIZATION IN NUMPY"
   ]
  },
  {
   "cell_type": "code",
   "execution_count": 15,
   "id": "b9651f09-280b-4a8a-8b0f-da69b79e6dea",
   "metadata": {},
   "outputs": [
    {
     "name": "stdout",
     "output_type": "stream",
     "text": [
      "[np.int64(1), np.int64(4), np.int64(9), np.int64(16), np.int64(25)]\n"
     ]
    }
   ],
   "source": [
    "#NORMAL LOOPS\n",
    "import numpy as np\n",
    "\n",
    "arr = np.array([1, 2, 3, 4, 5])\n",
    "result = []\n",
    "\n",
    "# Using a loop to square each element (slow)\n",
    "for num in arr:\n",
    "    result.append(num ** 2)\n",
    "\n",
    "print(result)  # Output: [1, 4, 9, 16, 25\n"
   ]
  },
  {
   "cell_type": "code",
   "execution_count": 16,
   "id": "6e695e51-3563-4ce2-9ddc-bc8f07a3603c",
   "metadata": {},
   "outputs": [
    {
     "name": "stdout",
     "output_type": "stream",
     "text": [
      "[ 1  4  9 16 25]\n"
     ]
    }
   ],
   "source": [
    "#VECTORIZATION :Vectorization allows you to perform operations on entire arrays at once, instead of iterating over elements one by one. \n",
    "arr = np.array([1, 2, 3, 4, 5])\n",
    "result = arr ** 2  # Vectorized operation\n",
    "print(result)  # Output: [1 4 9 16 25]"
   ]
  },
  {
   "cell_type": "code",
   "execution_count": 17,
   "id": "0c6e1830-e788-4b36-a9f8-9c61949880e0",
   "metadata": {},
   "outputs": [
    {
     "name": "stdout",
     "output_type": "stream",
     "text": [
      "[11 12 13 14 15]\n"
     ]
    }
   ],
   "source": [
    "#BROADCASTING:Broadcasting is a powerful feature of NumPy that allows you to perform operations on arrays of different shapes without creating copies.\n",
    "arr = np.array([1, 2, 3, 4, 5])\n",
    "result = arr + 10  # Broadcasting: 10 is added to all elements\n",
    "print(result)  # Output: [11 12 13 14 15]"
   ]
  },
  {
   "cell_type": "code",
   "execution_count": 18,
   "id": "00a900dc-8ba3-4ee8-92df-d5501c206029",
   "metadata": {},
   "outputs": [
    {
     "name": "stdout",
     "output_type": "stream",
     "text": [
      "[[-1.41421356 -1.41421356 -1.41421356]\n",
      " [-0.70710678 -0.70710678 -0.70710678]\n",
      " [ 0.          0.          0.        ]\n",
      " [ 0.70710678  0.70710678  0.70710678]\n",
      " [ 1.41421356  1.41421356  1.41421356]]\n"
     ]
    }
   ],
   "source": [
    "#Normalizing Data Using Broadcasting\n",
    "# Simulating a dataset (5 samples, 3 features)\n",
    "data = np.array([[10, 20, 30],\n",
    "                 [15, 25, 35],\n",
    "                 [20, 30, 40],\n",
    "                 [25, 35, 45],\n",
    "                 [30, 40, 50]])\n",
    "\n",
    "# Calculating mean and standard deviation for each feature (column)\n",
    "mean = data.mean(axis=0)\n",
    "std = data.std(axis=0)\n",
    "\n",
    "# Normalizing the data using broadcasting\n",
    "normalized_data = (data - mean) / std\n",
    "\n",
    "print(normalized_data)"
   ]
  },
  {
   "cell_type": "code",
   "execution_count": 19,
   "id": "8ec61899-77a2-4205-837a-6c20cbd940df",
   "metadata": {},
   "outputs": [],
   "source": [
    "#SOME BUILT IN MATHEMATICAL FUNCTIONS IN NUMPY\n",
    "arr=np.array([3,4,5,6,7,8])"
   ]
  },
  {
   "cell_type": "code",
   "execution_count": 20,
   "id": "d9dd68d5-7e81-458e-ad8f-29c4a686b478",
   "metadata": {},
   "outputs": [
    {
     "data": {
      "text/plain": [
       "array([3, 4, 5, 6, 7, 8])"
      ]
     },
     "execution_count": 20,
     "metadata": {},
     "output_type": "execute_result"
    }
   ],
   "source": [
    "arr"
   ]
  },
  {
   "cell_type": "code",
   "execution_count": 22,
   "id": "f5ef2966-3124-4a9b-b6c8-657162b45ca1",
   "metadata": {},
   "outputs": [
    {
     "data": {
      "text/plain": [
       "np.float64(5.5)"
      ]
     },
     "execution_count": 22,
     "metadata": {},
     "output_type": "execute_result"
    }
   ],
   "source": [
    "#np.mean() – Compute the mean (average) of an array.\n",
    "np.mean(arr)"
   ]
  },
  {
   "cell_type": "code",
   "execution_count": 23,
   "id": "ea8291a3-c3fe-4990-bb88-2d5eb2b3ff14",
   "metadata": {},
   "outputs": [
    {
     "data": {
      "text/plain": [
       "np.float64(1.707825127659933)"
      ]
     },
     "execution_count": 23,
     "metadata": {},
     "output_type": "execute_result"
    }
   ],
   "source": [
    "#np.std() – Compute the standard deviation of an array\n",
    "np.std(arr)"
   ]
  },
  {
   "cell_type": "code",
   "execution_count": 24,
   "id": "448e55ed-5e2c-46b2-a26f-b3664c862fc4",
   "metadata": {},
   "outputs": [
    {
     "data": {
      "text/plain": [
       "np.float64(2.9166666666666665)"
      ]
     },
     "execution_count": 24,
     "metadata": {},
     "output_type": "execute_result"
    }
   ],
   "source": [
    "#np.var() – Compute the variance of an array.\n",
    "np.var(arr)"
   ]
  },
  {
   "cell_type": "code",
   "execution_count": 25,
   "id": "41fafa89-4e56-4b5a-99a9-a63c24529366",
   "metadata": {},
   "outputs": [
    {
     "data": {
      "text/plain": [
       "np.int64(8)"
      ]
     },
     "execution_count": 25,
     "metadata": {},
     "output_type": "execute_result"
    }
   ],
   "source": [
    "#np.max gives the maximum element as output\n",
    "np.max(arr)"
   ]
  },
  {
   "cell_type": "code",
   "execution_count": 26,
   "id": "8d219d29-664d-43cd-af85-f24a12b5251f",
   "metadata": {},
   "outputs": [
    {
     "data": {
      "text/plain": [
       "np.int64(3)"
      ]
     },
     "execution_count": 26,
     "metadata": {},
     "output_type": "execute_result"
    }
   ],
   "source": [
    "#np.min() gives the minimum element\n",
    "np.min(arr)"
   ]
  },
  {
   "cell_type": "code",
   "execution_count": 27,
   "id": "fa1ddf3a-a856-4992-b09a-d14f013b093d",
   "metadata": {},
   "outputs": [
    {
     "data": {
      "text/plain": [
       "np.int64(33)"
      ]
     },
     "execution_count": 27,
     "metadata": {},
     "output_type": "execute_result"
    }
   ],
   "source": [
    "np.sum(arr)#gives the sum of the element"
   ]
  },
  {
   "cell_type": "code",
   "execution_count": 28,
   "id": "e478a7e3-dc0c-4570-a204-17c42d7cd25a",
   "metadata": {},
   "outputs": [
    {
     "data": {
      "text/plain": [
       "np.int64(20160)"
      ]
     },
     "execution_count": 28,
     "metadata": {},
     "output_type": "execute_result"
    }
   ],
   "source": [
    "np.prod(arr)#gives the sum of all elements"
   ]
  },
  {
   "cell_type": "code",
   "execution_count": 29,
   "id": "0641c978-40b2-458f-9fe0-96299a66870c",
   "metadata": {},
   "outputs": [
    {
     "data": {
      "text/plain": [
       "np.float64(5.5)"
      ]
     },
     "execution_count": 29,
     "metadata": {},
     "output_type": "execute_result"
    }
   ],
   "source": [
    "np.median(arr)#gives the median value among the elements"
   ]
  },
  {
   "cell_type": "code",
   "execution_count": 31,
   "id": "ad2a6771-29ea-44ba-ae48-ee29d282147f",
   "metadata": {},
   "outputs": [
    {
     "data": {
      "text/plain": [
       "np.float64(5.5)"
      ]
     },
     "execution_count": 31,
     "metadata": {},
     "output_type": "execute_result"
    }
   ],
   "source": [
    "np.percentile(arr,50)#computes the percentile of the array"
   ]
  },
  {
   "cell_type": "code",
   "execution_count": 32,
   "id": "ec09429c-b842-4ffc-812b-35d9df4624c2",
   "metadata": {},
   "outputs": [
    {
     "data": {
      "text/plain": [
       "np.int64(5)"
      ]
     },
     "execution_count": 32,
     "metadata": {},
     "output_type": "execute_result"
    }
   ],
   "source": [
    "np.argmax(arr)#gives the index of maximum element"
   ]
  },
  {
   "cell_type": "code",
   "execution_count": null,
   "id": "33e670df-c46d-41e4-9ef5-7bed0531bf11",
   "metadata": {},
   "outputs": [],
   "source": []
  }
 ],
 "metadata": {
  "kernelspec": {
   "display_name": "Python 3 (ipykernel)",
   "language": "python",
   "name": "python3"
  },
  "language_info": {
   "codemirror_mode": {
    "name": "ipython",
    "version": 3
   },
   "file_extension": ".py",
   "mimetype": "text/x-python",
   "name": "python",
   "nbconvert_exporter": "python",
   "pygments_lexer": "ipython3",
   "version": "3.13.2"
  }
 },
 "nbformat": 4,
 "nbformat_minor": 5
}
